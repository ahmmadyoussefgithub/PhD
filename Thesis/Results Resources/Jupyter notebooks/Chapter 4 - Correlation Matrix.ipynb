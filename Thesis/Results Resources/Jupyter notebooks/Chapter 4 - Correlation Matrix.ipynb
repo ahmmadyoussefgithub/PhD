{
 "cells": [
  {
   "cell_type": "code",
   "execution_count": 2,
   "metadata": {},
   "outputs": [
    {
     "name": "stderr",
     "output_type": "stream",
     "text": [
      "/Users/ahmmadyoussef/anaconda/lib/python3.6/site-packages/statsmodels/compat/pandas.py:56: FutureWarning:\n",
      "\n",
      "The pandas.core.datetools module is deprecated and will be removed in a future version. Please use the pandas.tseries module instead.\n",
      "\n"
     ]
    }
   ],
   "source": [
    "#https://plot.ly/~AhmedYoussef\n",
    "\n",
    "import matplotlib.pyplot\n",
    "import plotly.plotly \n",
    "import plotly.graph_objs\n",
    "from plotly import figure_factory \n",
    "\n",
    "import numpy\n",
    "import pandas \n",
    "import scipy.stats\n",
    "import statsmodels.api\n",
    "\n",
    "data = pandas.read_csv('/Volumes/Windows HD/PhD/team_size.tsv','\\t')\n",
    "metrics = ['CBO', 'DIT', 'LCOM', 'NOC', 'RFC', 'WMC']\n"
   ]
  },
  {
   "cell_type": "code",
   "execution_count": 3,
   "metadata": {},
   "outputs": [
    {
     "name": "stdout",
     "output_type": "stream",
     "text": [
      "[[  1.00000000e+00   2.24828281e-02   1.06383534e-02   1.46473078e-01\n",
      "    5.66934084e-01   6.20664411e-01   2.33855233e-01   4.76597290e-02]\n",
      " [  2.24828281e-02   1.00000000e+00   4.30329615e-03  -3.23844822e-03\n",
      "    2.47647911e-01  -3.25591137e-02  -2.52526408e-02   2.64202272e-02]\n",
      " [  1.06383534e-02   4.30329615e-03   1.00000000e+00   1.19199072e-02\n",
      "    2.36568200e-02   1.19458452e-02  -2.18263317e-03   1.45128349e-04]\n",
      " [  1.46473078e-01  -3.23844822e-03   1.19199072e-02   1.00000000e+00\n",
      "    1.77611589e-01   2.05220518e-01   1.98168698e-01   4.68136484e-02]\n",
      " [  5.66934084e-01   2.47647911e-01   2.36568200e-02   1.77611589e-01\n",
      "    1.00000000e+00   8.26066992e-01   1.02627123e-01   6.17200914e-03]\n",
      " [  6.20664411e-01  -3.25591137e-02   1.19458452e-02   2.05220518e-01\n",
      "    8.26066992e-01   1.00000000e+00   1.43716277e-01   7.57541937e-04]\n",
      " [  2.33855233e-01  -2.52526408e-02  -2.18263317e-03   1.98168698e-01\n",
      "    1.02627123e-01   1.43716277e-01   1.00000000e+00   9.15368542e-02]\n",
      " [  4.76597290e-02   2.64202272e-02   1.45128349e-04   4.68136484e-02\n",
      "    6.17200914e-03   7.57541937e-04   9.15368542e-02   1.00000000e+00]]\n"
     ]
    }
   ],
   "source": [
    "#https://stackoverflow.com/questions/14657433/correlation-matrix-in-python\n",
    "correlation_matrix = numpy.corrcoef([data['CBO'], data['DIT'], data['NOC'], data['LCOM'], data['RFC'], data['WMC'], data['Class Revision Count'], data['Project Author Count']])\n",
    "\n",
    "print(correlation_matrix)\n"
   ]
  },
  {
   "cell_type": "code",
   "execution_count": 4,
   "metadata": {},
   "outputs": [
    {
     "data": {
      "image/png": "[encoded data removed]",
      "text/plain": [
       "<matplotlib.figure.Figure at 0x11c93e4e0>"
      ]
     },
     "metadata": {},
     "output_type": "display_data"
    }
   ],
   "source": [
    "# Heat map\n",
    "matplotlib.pyplot.imshow(correlation_matrix, interpolation='nearest')\n",
    "matplotlib.pyplot.colorbar()\n",
    "matplotlib.pyplot.xticks([0,1,2,3,4,5,6,7], ['CBO','DIT','NOC','LCOM','RFC','WMC', 'REVS', 'SIZE'])\n",
    "matplotlib.pyplot.yticks([0,1,2,3,4,5,6,7], ['CBO','DIT','NOC','LCOM','RFC','WMC', 'REVS', 'SIZE'])\n",
    "matplotlib.pyplot.show()"
   ]
  },
  {
   "cell_type": "code",
   "execution_count": null,
   "metadata": {
    "collapsed": true
   },
   "outputs": [],
   "source": []
  }
 ],
 "metadata": {
  "kernelspec": {
   "display_name": "Python 3",
   "language": "python",
   "name": "python3"
  },
  "language_info": {
   "codemirror_mode": {
    "name": "ipython",
    "version": 3
   },
   "file_extension": ".py",
   "mimetype": "text/x-python",
   "name": "python",
   "nbconvert_exporter": "python",
   "pygments_lexer": "ipython3",
   "version": "3.6.1"
  }
 },
 "nbformat": 4,
 "nbformat_minor": 2
}
