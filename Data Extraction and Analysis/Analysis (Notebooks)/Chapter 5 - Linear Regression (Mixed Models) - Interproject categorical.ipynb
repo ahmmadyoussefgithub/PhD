{
 "cells": [
  {
   "cell_type": "code",
   "execution_count": 1,
   "metadata": {},
   "outputs": [
    {
     "name": "stderr",
     "output_type": "stream",
     "text": [
      "/Users/ahmmadyoussef/anaconda/lib/python3.6/site-packages/statsmodels/compat/pandas.py:56: FutureWarning: The pandas.core.datetools module is deprecated and will be removed in a future version. Please use the pandas.tseries module instead.\n",
      "  from pandas.core import datetools\n"
     ]
    }
   ],
   "source": [
    "import seaborn as sns\n",
    "import numpy as np\n",
    "from scipy import stats\n",
    "import pandas\n",
    "import statsmodels.api\n",
    "\n",
    "data = pandas.read_csv('/Volumes/Windows HD/PhD/team_stability_interproject.tsv', delimiter='\\t')\n",
    "\n",
    "metrics = ['CBO', 'DIT', 'LCOM', 'NOC', 'RFC', 'WMC']"
   ]
  },
  {
   "cell_type": "code",
   "execution_count": 2,
   "metadata": {},
   "outputs": [
    {
     "name": "stdout",
     "output_type": "stream",
     "text": [
      "                Mixed Linear Model Regression Results\n",
      "======================================================================\n",
      "Model:                MixedLM     Dependent Variable:     CBO         \n",
      "No. Observations:     79060       Method:                 REML        \n",
      "No. Groups:           822         Scale:                  28.2765     \n",
      "Min. group size:      1           Likelihood:             -245237.7117\n",
      "Max. group size:      3186        Converged:              Yes         \n",
      "Mean group size:      96.2                                            \n",
      "----------------------------------------------------------------------\n",
      "                              Coef. Std.Err.   z   P>|z| [0.025 0.975]\n",
      "----------------------------------------------------------------------\n",
      "Categorical Lack of Stability 0.766    0.077 9.947 0.000  0.615  0.917\n",
      "Group RE                      5.798    0.064                          \n",
      "======================================================================\n",
      "\n",
      "                Mixed Linear Model Regression Results\n",
      "======================================================================\n",
      "Model:                 MixedLM     Dependent Variable:     DIT        \n",
      "No. Observations:      79060       Method:                 REML       \n",
      "No. Groups:            822         Scale:                  0.5557     \n",
      "Min. group size:       1           Likelihood:             -91051.3519\n",
      "Max. group size:       3186        Converged:              Yes        \n",
      "Mean group size:       96.2                                           \n",
      "----------------------------------------------------------------------\n",
      "                              Coef. Std.Err.   z   P>|z| [0.025 0.975]\n",
      "----------------------------------------------------------------------\n",
      "Categorical Lack of Stability 0.037    0.012 3.135 0.002  0.014  0.060\n",
      "Group RE                      2.241    0.152                          \n",
      "======================================================================\n",
      "\n",
      "                  Mixed Linear Model Regression Results\n",
      "=========================================================================\n",
      "Model:                 MixedLM      Dependent Variable:      LCOM        \n",
      "No. Observations:      79060        Method:                  REML        \n",
      "No. Groups:            822          Scale:                   1202.8385   \n",
      "Min. group size:       1            Likelihood:              -394301.2760\n",
      "Max. group size:       3186         Converged:               Yes         \n",
      "Mean group size:       96.2                                              \n",
      "-------------------------------------------------------------------------\n",
      "                               Coef.   Std.Err.   z   P>|z| [0.025 0.975]\n",
      "-------------------------------------------------------------------------\n",
      "Categorical Lack of Stability    2.505    0.549 4.564 0.000  1.429  3.581\n",
      "Group RE                      2109.933    3.181                          \n",
      "=========================================================================\n",
      "\n",
      "                 Mixed Linear Model Regression Results\n",
      "=======================================================================\n",
      "Model:                 MixedLM     Dependent Variable:     NOC         \n",
      "No. Observations:      79060       Method:                 REML        \n",
      "No. Groups:            822         Scale:                  6.2042      \n",
      "Min. group size:       1           Likelihood:             -184543.0176\n",
      "Max. group size:       3186        Converged:              Yes         \n",
      "Mean group size:       96.2                                            \n",
      "-----------------------------------------------------------------------\n",
      "                              Coef. Std.Err.   z    P>|z| [0.025 0.975]\n",
      "-----------------------------------------------------------------------\n",
      "Categorical Lack of Stability 0.210    0.020 10.374 0.000  0.170  0.249\n",
      "Group RE                      0.066    0.002                           \n",
      "=======================================================================\n",
      "\n",
      "                 Mixed Linear Model Regression Results\n",
      "========================================================================\n",
      "Model:                  MixedLM     Dependent Variable:     RFC         \n",
      "No. Observations:       79060       Method:                 REML        \n",
      "No. Groups:             822         Scale:                  1457.0003   \n",
      "Min. group size:        1           Likelihood:             -400650.2018\n",
      "Max. group size:        3186        Converged:              Yes         \n",
      "Mean group size:        96.2                                            \n",
      "------------------------------------------------------------------------\n",
      "                              Coef.  Std.Err.   z    P>|z| [0.025 0.975]\n",
      "------------------------------------------------------------------------\n",
      "Categorical Lack of Stability  5.686    0.433 13.119 0.000  4.836  6.535\n",
      "Group RE                      76.360    0.132                           \n",
      "========================================================================\n",
      "\n",
      "                 Mixed Linear Model Regression Results\n",
      "========================================================================\n",
      "Model:                  MixedLM     Dependent Variable:     WMC         \n",
      "No. Observations:       79060       Method:                 REML        \n",
      "No. Groups:             822         Scale:                  1224.5252   \n",
      "Min. group size:        1           Likelihood:             -393594.2199\n",
      "Max. group size:        3186        Converged:              Yes         \n",
      "Mean group size:        96.2                                            \n",
      "------------------------------------------------------------------------\n",
      "                              Coef.  Std.Err.   z    P>|z| [0.025 0.975]\n",
      "------------------------------------------------------------------------\n",
      "Categorical Lack of Stability  5.439    0.336 16.200 0.000  4.781  6.097\n",
      "Group RE                      28.746    0.064                           \n",
      "========================================================================\n",
      "\n"
     ]
    }
   ],
   "source": [
    "for metric in metrics:\n",
    "    model = statsmodels.api.MixedLM(data[metric], data[['Categorical Lack of Stability']], data['Project ID'])\n",
    "    result = model.fit()\n",
    "    print(result.summary())\n"
   ]
  },
  {
   "cell_type": "code",
   "execution_count": null,
   "metadata": {
    "collapsed": true
   },
   "outputs": [],
   "source": []
  }
 ],
 "metadata": {
  "kernelspec": {
   "display_name": "Python 3",
   "language": "python",
   "name": "python3"
  },
  "language_info": {
   "codemirror_mode": {
    "name": "ipython",
    "version": 3
   },
   "file_extension": ".py",
   "mimetype": "text/x-python",
   "name": "python",
   "nbconvert_exporter": "python",
   "pygments_lexer": "ipython3",
   "version": "3.6.1"
  }
 },
 "nbformat": 4,
 "nbformat_minor": 2
}
