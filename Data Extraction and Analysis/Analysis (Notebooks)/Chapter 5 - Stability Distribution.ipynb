{
 "cells": [
  {
   "cell_type": "code",
   "execution_count": 2,
   "metadata": {},
   "outputs": [
    {
     "name": "stderr",
     "output_type": "stream",
     "text": [
      "/Users/ahmmadyoussef/anaconda/lib/python3.6/site-packages/statsmodels/compat/pandas.py:56: FutureWarning: The pandas.core.datetools module is deprecated and will be removed in a future version. Please use the pandas.tseries module instead.\n",
      "  from pandas.core import datetools\n"
     ]
    }
   ],
   "source": [
    "import seaborn as sns\n",
    "import numpy as np\n",
    "from scipy import stats\n",
    "import pandas\n",
    "import statsmodels.api\n",
    "\n",
    "data = pandas.read_csv('/Volumes/Windows HD/PhD/team_stability.tsv', delimiter='\\t')\n"
   ]
  },
  {
   "cell_type": "code",
   "execution_count": 3,
   "metadata": {},
   "outputs": [
    {
     "data": {
      "image/png": "[encoded data removed]",
      "text/plain": [
       "<matplotlib.figure.Figure at 0x113cfd048>"
      ]
     },
     "metadata": {},
     "output_type": "display_data"
    },
    {
     "data": {
      "text/plain": [
       "<function matplotlib.pyplot.colors>"
      ]
     },
     "execution_count": 3,
     "metadata": {},
     "output_type": "execute_result"
    }
   ],
   "source": [
    "distplot = sns.distplot(data['Modularised Project Instability'], hist=False);\n",
    "# sns.distplot(mockdata, kde=False, fit=stats.norm);\n",
    "# sns.plt.xlim(0,150)\n",
    "sns.set_style('white')\n",
    "sns.plt.show()\n",
    "sns.plt.colors"
   ]
  },
  {
   "cell_type": "code",
   "execution_count": 10,
   "metadata": {},
   "outputs": [
    {
     "name": "stdout",
     "output_type": "stream",
     "text": [
      "0.0 \t nan\n",
      "0.0 \t nan\n",
      "0.0 \t nan\n",
      "0.0 \t nan\n",
      "0.0 \t nan\n",
      "0.0 \t nan\n",
      "0.0 \t nan\n",
      "0.0 \t nan\n",
      "0.0 \t nan\n",
      "0.0 \t nan\n",
      "0.0 \t nan\n",
      "0.0 \t nan\n",
      "0.0 \t nan\n",
      "0.0 \t nan\n",
      "0.0 \t nan\n",
      "0.0 \t nan\n",
      "0.0 \t nan\n",
      "0.0 \t nan\n",
      "0.0 \t nan\n",
      "0.0 \t nan\n",
      "0.0 \t nan\n",
      "0.0 \t nan\n",
      "0.0 \t nan\n",
      "0.0 \t nan\n",
      "0.0 \t nan\n",
      "0.0 \t nan\n",
      "0.0 \t nan\n",
      "0.0 \t nan\n",
      "0.0 \t nan\n",
      "0.0 \t nan\n",
      "0.0 \t nan\n",
      "0.0 \t nan\n",
      "0.0 \t nan\n",
      "0.0 \t nan\n",
      "0.0 \t nan\n",
      "0.0 \t nan\n",
      "0.0 \t nan\n",
      "0.0 \t nan\n",
      "0.0 \t nan\n",
      "0.0 \t nan\n",
      "0.0 \t nan\n",
      "0.0 \t nan\n",
      "0.0 \t nan\n",
      "0.0 \t nan\n",
      "0.0 \t nan\n",
      "0.0 \t nan\n",
      "0.0 \t nan\n",
      "0.0 \t nan\n",
      "0.0 \t nan\n",
      "0.0 \t nan\n",
      "0.0 \t nan\n",
      "0.0 \t nan\n",
      "0.0 \t nan\n",
      "0.0 \t nan\n",
      "0.0 \t nan\n",
      "0.0 \t nan\n",
      "0.0 \t nan\n",
      "0.0 \t nan\n",
      "0.0 \t nan\n",
      "0.0 \t nan\n",
      "0.0 \t nan\n",
      "0.0 \t nan\n",
      "0.0 \t nan\n",
      "0.0 \t nan\n",
      "0.0 \t nan\n",
      "0.0 \t nan\n",
      "0.0 \t nan\n",
      "0.0 \t nan\n",
      "0.0 \t nan\n",
      "0.0 \t nan\n",
      "0.0 \t nan\n",
      "0.0 \t nan\n",
      "0.0 \t nan\n",
      "0.0 \t nan\n",
      "0.0 \t nan\n",
      "0.0 \t nan\n",
      "0.0 \t nan\n",
      "0.0 \t nan\n",
      "0.0 \t nan\n",
      "0.0 \t nan\n",
      "0.0 \t nan\n",
      "0.0 \t nan\n",
      "0.0 \t nan\n",
      "0.0 \t nan\n",
      "0.0 \t nan\n",
      "0.0 \t nan\n",
      "0.0 \t nan\n",
      "0.0 \t nan\n",
      "0.0 \t nan\n",
      "0.0 \t nan\n",
      "0.0 \t nan\n",
      "0.0 \t nan\n",
      "0.0 \t nan\n",
      "0.0 \t nan\n",
      "0.0 \t nan\n",
      "0.0 \t nan\n",
      "0.0 \t nan\n",
      "0.0 \t nan\n",
      "0.0 \t nan\n",
      "0.0 \t nan\n",
      "0.0 \t nan\n",
      "0.0 \t nan\n",
      "0.0 \t nan\n",
      "0.0 \t nan\n",
      "0.0 \t nan\n",
      "0.0 \t nan\n",
      "0.0 \t nan\n",
      "0.0 \t nan\n",
      "0.0 \t nan\n",
      "0.0 \t nan\n",
      "0.0 \t nan\n",
      "0.0 \t nan\n",
      "0.0 \t nan\n",
      "0.0 \t nan\n",
      "0.0 \t nan\n",
      "0.0 \t nan\n",
      "0.0 \t nan\n",
      "0.0 \t nan\n",
      "0.0 \t nan\n",
      "0.0 \t nan\n",
      "0.0 \t nan\n",
      "0.0 \t nan\n",
      "0.0 \t nan\n",
      "0.0 \t nan\n",
      "0.0 \t nan\n",
      "0.0 \t nan\n",
      "0.0 \t nan\n",
      "0.0 \t nan\n"
     ]
    }
   ],
   "source": [
    "\n",
    "distplot = sns.distplot(data['CBO'].astype(int), hist=False);\n",
    "for i in range (0, len(distplot.get_lines()[0].get_data()[1])):\n",
    "    print(distplot.get_lines()[0].get_data()[0][i], '\t', distplot.get_lines()[0].get_data()[1][i])\n"
   ]
  },
  {
   "cell_type": "code",
   "execution_count": 13,
   "metadata": {},
   "outputs": [
    {
     "data": {
      "text/plain": [
       "<matplotlib.lines.Line2D at 0x11e56bf60>"
      ]
     },
     "execution_count": 13,
     "metadata": {},
     "output_type": "execute_result"
    }
   ],
   "source": [
    "distplot.get_lines()[0]."
   ]
  },
  {
   "cell_type": "code",
   "execution_count": 18,
   "metadata": {},
   "outputs": [
    {
     "name": "stdout",
     "output_type": "stream",
     "text": [
      "kstest (normality): 0.5 0.0\n"
     ]
    }
   ],
   "source": [
    "import scipy.stats\n",
    "\n",
    "result = scipy.stats.kstest(data['Project Instability'], cdf='norm')\n",
    "print('kstest (normality):', result.statistic, result.pvalue)"
   ]
  }
 ],
 "metadata": {
  "kernelspec": {
   "display_name": "Python 3",
   "language": "python",
   "name": "python3"
  },
  "language_info": {
   "codemirror_mode": {
    "name": "ipython",
    "version": 3
   },
   "file_extension": ".py",
   "mimetype": "text/x-python",
   "name": "python",
   "nbconvert_exporter": "python",
   "pygments_lexer": "ipython3",
   "version": "3.6.1"
  }
 },
 "nbformat": 4,
 "nbformat_minor": 2
}
