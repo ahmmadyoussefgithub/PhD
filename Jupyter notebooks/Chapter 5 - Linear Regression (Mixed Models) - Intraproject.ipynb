{
 "cells": [
  {
   "cell_type": "code",
   "execution_count": 1,
   "metadata": {},
   "outputs": [
    {
     "name": "stderr",
     "output_type": "stream",
     "text": [
      "/Users/ahmmadyoussef/anaconda/lib/python3.6/site-packages/statsmodels/compat/pandas.py:56: FutureWarning: The pandas.core.datetools module is deprecated and will be removed in a future version. Please use the pandas.tseries module instead.\n",
      "  from pandas.core import datetools\n"
     ]
    }
   ],
   "source": [
    "import seaborn as sns\n",
    "import numpy as np\n",
    "from scipy import stats\n",
    "import pandas\n",
    "import statsmodels.api\n",
    "\n",
    "data = pandas.read_csv('/Volumes/Windows HD/PhD/team_stability.tsv', delimiter='\\t')\n",
    "\n",
    "metrics = ['CBO', 'DIT', 'LCOM', 'NOC', 'RFC', 'WMC']"
   ]
  },
  {
   "cell_type": "code",
   "execution_count": 2,
   "metadata": {},
   "outputs": [
    {
     "name": "stdout",
     "output_type": "stream",
     "text": [
      "                  Mixed Linear Model Regression Results\n",
      "=========================================================================\n",
      "Model:                 MixedLM      Dependent Variable:      CBO         \n",
      "No. Observations:      49015        Method:                  REML        \n",
      "No. Groups:            822          Scale:                   28.5892     \n",
      "Min. group size:       1            Likelihood:              -152337.4893\n",
      "Max. group size:       1925         Converged:               Yes         \n",
      "Mean group size:       59.6                                              \n",
      "-------------------------------------------------------------------------\n",
      "                                Coef. Std.Err.   z    P>|z| [0.025 0.975]\n",
      "-------------------------------------------------------------------------\n",
      "Modularised Project Instability 5.896    0.191 30.833 0.000  5.521  6.271\n",
      "Group RE                        2.921    0.034                           \n",
      "=========================================================================\n",
      "\n",
      "CBO -- Modularised Project Instability    9.530473e-209\n",
      "Group RE                            7.685416e-59\n",
      "dtype: float64\n",
      "                  Mixed Linear Model Regression Results\n",
      "=========================================================================\n",
      "Model:                  MixedLM      Dependent Variable:      DIT        \n",
      "No. Observations:       49015        Method:                  REML       \n",
      "No. Groups:             822          Scale:                   0.5747     \n",
      "Min. group size:        1            Likelihood:              -57481.0924\n",
      "Max. group size:        1925         Converged:               Yes        \n",
      "Mean group size:        59.6                                             \n",
      "-------------------------------------------------------------------------\n",
      "                                Coef. Std.Err.   z    P>|z| [0.025 0.975]\n",
      "-------------------------------------------------------------------------\n",
      "Modularised Project Instability 3.327    0.081 40.875 0.000  3.168  3.487\n",
      "Group RE                        0.735    0.050                           \n",
      "=========================================================================\n",
      "\n",
      "DIT -- Modularised Project Instability    0.000000e+00\n",
      "Group RE                           3.693206e-83\n",
      "dtype: float64\n",
      "                   Mixed Linear Model Regression Results\n",
      "============================================================================\n",
      "Model:                  MixedLM       Dependent Variable:       LCOM        \n",
      "No. Observations:       49015         Method:                   REML        \n",
      "No. Groups:             822           Scale:                    1202.3925   \n",
      "Min. group size:        1             Likelihood:               -244600.9495\n",
      "Max. group size:        1925          Converged:                Yes         \n",
      "Mean group size:        59.6                                                \n",
      "----------------------------------------------------------------------------\n",
      "                                 Coef.  Std.Err.   z    P>|z| [0.025  0.975]\n",
      "----------------------------------------------------------------------------\n",
      "Modularised Project Instability 100.492    2.715 37.018 0.000 95.171 105.813\n",
      "Group RE                        784.836    1.219                            \n",
      "============================================================================\n",
      "\n",
      "LCOM -- Modularised Project Instability    5.838779e-300\n",
      "Group RE                            5.493966e-77\n",
      "dtype: float64\n",
      "                  Mixed Linear Model Regression Results\n",
      "=========================================================================\n",
      "Model:                 MixedLM      Dependent Variable:      NOC         \n",
      "No. Observations:      49015        Method:                  REML        \n",
      "No. Groups:            822          Scale:                   7.5287      \n",
      "Min. group size:       1            Likelihood:              -119124.9020\n",
      "Max. group size:       1925         Converged:               Yes         \n",
      "Mean group size:       59.6                                              \n",
      "-------------------------------------------------------------------------\n",
      "                                Coef. Std.Err.   z    P>|z| [0.025 0.975]\n",
      "-------------------------------------------------------------------------\n",
      "Modularised Project Instability 0.645    0.046 13.996 0.000  0.555  0.736\n",
      "Group RE                        0.044    0.002                           \n",
      "=========================================================================\n",
      "\n",
      "NOC -- Modularised Project Instability    1.652002e-44\n",
      "Group RE                           3.208998e-14\n",
      "dtype: float64\n",
      "                  Mixed Linear Model Regression Results\n",
      "==========================================================================\n",
      "Model:                  MixedLM      Dependent Variable:      RFC         \n",
      "No. Observations:       49015        Method:                  REML        \n",
      "No. Groups:             822          Scale:                   1229.6605   \n",
      "Min. group size:        1            Likelihood:              -244268.3551\n",
      "Max. group size:        1925         Converged:               Yes         \n",
      "Mean group size:        59.6                                              \n",
      "--------------------------------------------------------------------------\n",
      "                                Coef.  Std.Err.   z    P>|z| [0.025 0.975]\n",
      "--------------------------------------------------------------------------\n",
      "Modularised Project Instability 23.597    0.892 26.456 0.000 21.849 25.345\n",
      "Group RE                        46.278    0.093                           \n",
      "==========================================================================\n",
      "\n",
      "RFC -- Modularised Project Instability    3.129480e-154\n",
      "Group RE                            2.468464e-45\n",
      "dtype: float64\n",
      "                  Mixed Linear Model Regression Results\n",
      "==========================================================================\n",
      "Model:                  MixedLM      Dependent Variable:      WMC         \n",
      "No. Observations:       49015        Method:                  REML        \n",
      "No. Groups:             822          Scale:                   991.3410    \n",
      "Min. group size:        1            Likelihood:              -238821.3098\n",
      "Max. group size:        1925         Converged:               Yes         \n",
      "Mean group size:        59.6                                              \n",
      "--------------------------------------------------------------------------\n",
      "                                Coef.  Std.Err.   z    P>|z| [0.025 0.975]\n",
      "--------------------------------------------------------------------------\n",
      "Modularised Project Instability 17.848    0.618 28.866 0.000 16.636 19.060\n",
      "Group RE                        14.195    0.043                           \n",
      "==========================================================================\n",
      "\n",
      "WMC -- Modularised Project Instability    3.230114e-183\n",
      "Group RE                            1.674374e-25\n",
      "dtype: float64\n"
     ]
    }
   ],
   "source": [
    "for metric in metrics:\n",
    "    model = statsmodels.api.MixedLM(data[metric], data[['Modularised Project Instability']], data['Project ID'])\n",
    "    result = model.fit()\n",
    "    print(result.summary())\n",
    "    print(metric, '--', result.pvalues)\n"
   ]
  },
  {
   "cell_type": "code",
   "execution_count": 2,
   "metadata": {},
   "outputs": [
    {
     "name": "stderr",
     "output_type": "stream",
     "text": [
      "/Users/ahmmadyoussef/anaconda/lib/python3.6/site-packages/statsmodels/base/model.py:496: ConvergenceWarning: Maximum Likelihood optimization failed to converge. Check mle_retvals\n",
      "  \"Check mle_retvals\", ConvergenceWarning)\n",
      "/Users/ahmmadyoussef/anaconda/lib/python3.6/site-packages/statsmodels/base/model.py:496: ConvergenceWarning: Maximum Likelihood optimization failed to converge. Check mle_retvals\n",
      "  \"Check mle_retvals\", ConvergenceWarning)\n",
      "/Users/ahmmadyoussef/anaconda/lib/python3.6/site-packages/statsmodels/base/model.py:496: ConvergenceWarning: Maximum Likelihood optimization failed to converge. Check mle_retvals\n",
      "  \"Check mle_retvals\", ConvergenceWarning)\n",
      "/Users/ahmmadyoussef/anaconda/lib/python3.6/site-packages/statsmodels/base/model.py:496: ConvergenceWarning: Maximum Likelihood optimization failed to converge. Check mle_retvals\n",
      "  \"Check mle_retvals\", ConvergenceWarning)\n",
      "/Users/ahmmadyoussef/anaconda/lib/python3.6/site-packages/statsmodels/base/model.py:496: ConvergenceWarning: Maximum Likelihood optimization failed to converge. Check mle_retvals\n",
      "  \"Check mle_retvals\", ConvergenceWarning)\n",
      "/Users/ahmmadyoussef/anaconda/lib/python3.6/site-packages/statsmodels/regression/mixed_linear_model.py:2001: ConvergenceWarning: Gradient optimization failed.\n",
      "  warnings.warn(msg, ConvergenceWarning)\n"
     ]
    },
    {
     "name": "stdout",
     "output_type": "stream",
     "text": [
      "          Mixed Linear Model Regression Results\n",
      "==========================================================\n",
      "Model:            MixedLM Dependent Variable: CBO         \n",
      "No. Observations: 49015   Method:             REML        \n",
      "No. Groups:       822     Scale:              26.3335     \n",
      "Min. group size:  1       Likelihood:         -150156.5322\n",
      "Max. group size:  1925    Converged:          No          \n",
      "Mean group size:  59.6                                    \n",
      "----------------------------------------------------------\n",
      "                 Coef. Std.Err.   z    P>|z| [0.025 0.975]\n",
      "----------------------------------------------------------\n",
      "Class Stability  1.250    0.073 17.199 0.000  1.107  1.392\n",
      "Author Count     0.227    0.035  6.433 0.000  0.158  0.296\n",
      "Revision Count   0.200    0.004 54.252 0.000  0.193  0.208\n",
      "Group RE         1.395    0.017                           \n",
      "==========================================================\n",
      "\n",
      "CBO -- Class Stability    2.686751e-66\n",
      "Author Count       1.248386e-10\n",
      "Revision Count     0.000000e+00\n",
      "Group RE           1.343402e-54\n",
      "dtype: float64\n"
     ]
    }
   ],
   "source": [
    "model = statsmodels.api.MixedLM(data['CBO'], data[['Class Stability', 'Author Count', 'Revision Count']], data['Project SID'])\n",
    "result = model.fit()\n",
    "print(result.summary())\n",
    "print('CBO', '--', result.pvalues)"
   ]
  },
  {
   "cell_type": "code",
   "execution_count": null,
   "metadata": {
    "collapsed": true
   },
   "outputs": [],
   "source": []
  }
 ],
 "metadata": {
  "kernelspec": {
   "display_name": "Python 3",
   "language": "python",
   "name": "python3"
  },
  "language_info": {
   "codemirror_mode": {
    "name": "ipython",
    "version": 3
   },
   "file_extension": ".py",
   "mimetype": "text/x-python",
   "name": "python",
   "nbconvert_exporter": "python",
   "pygments_lexer": "ipython3",
   "version": "3.6.1"
  }
 },
 "nbformat": 4,
 "nbformat_minor": 2
}
