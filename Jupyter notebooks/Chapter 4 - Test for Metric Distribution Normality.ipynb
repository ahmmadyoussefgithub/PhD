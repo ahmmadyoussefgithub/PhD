{
 "cells": [
  {
   "cell_type": "code",
   "execution_count": 1,
   "metadata": {},
   "outputs": [
    {
     "name": "stderr",
     "output_type": "stream",
     "text": [
      "/Users/ahmmadyoussef/anaconda/lib/python3.6/site-packages/statsmodels/compat/pandas.py:56: FutureWarning: The pandas.core.datetools module is deprecated and will be removed in a future version. Please use the pandas.tseries module instead.\n",
      "  from pandas.core import datetools\n"
     ]
    }
   ],
   "source": [
    "import seaborn as sns\n",
    "import numpy as np\n",
    "from scipy import stats\n",
    "import pandas \n",
    "import scipy.stats\n",
    "import statsmodels.api\n",
    "\n",
    "\n",
    "data = pandas.read_csv('/Volumes/Windows HD/PhD/team_size.tsv','\\t')\n",
    "metrics = ['CBO', 'DIT', 'LCOM', 'NOC', 'RFC', 'WMC']\n"
   ]
  },
  {
   "cell_type": "code",
   "execution_count": 2,
   "metadata": {},
   "outputs": [
    {
     "name": "stdout",
     "output_type": "stream",
     "text": [
      "metric statistic pvalue\n",
      "CBO 0.619819253835 0.0\n",
      "DIT 0.841338972063 0.0\n",
      "LCOM 0.683633667404 0.0\n",
      "NOC 0.5 0.0\n",
      "RFC 0.867601504982 0.0\n",
      "WMC 0.839961341001 0.0\n"
     ]
    }
   ],
   "source": [
    "# KSTest against normal distribution \n",
    "\n",
    "#https://plot.ly/python/normality-test/\n",
    "print('metric', 'statistic', 'pvalue')\n",
    "for metric in metrics:\n",
    "    result = scipy.stats.kstest(data[metric], cdf='norm')\n",
    "    print(metric, result.statistic, result.pvalue)"
   ]
  },
  {
   "cell_type": "code",
   "execution_count": null,
   "metadata": {
    "collapsed": true
   },
   "outputs": [],
   "source": []
  }
 ],
 "metadata": {
  "kernelspec": {
   "display_name": "Python 3",
   "language": "python",
   "name": "python3"
  },
  "language_info": {
   "codemirror_mode": {
    "name": "ipython",
    "version": 3
   },
   "file_extension": ".py",
   "mimetype": "text/x-python",
   "name": "python",
   "nbconvert_exporter": "python",
   "pygments_lexer": "ipython3",
   "version": "3.6.1"
  }
 },
 "nbformat": 4,
 "nbformat_minor": 2
}
